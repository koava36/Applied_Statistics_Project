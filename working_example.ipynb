{
 "cells": [
  {
   "cell_type": "code",
   "execution_count": 1,
   "metadata": {},
   "outputs": [],
   "source": [
    "import numpy as np\n",
    "import torch\n",
    "import torch.nn as nn\n",
    "import torch.nn.functional as F\n",
    "import torch.optim as optim\n",
    "from amortized_bootstrap import Amortized_bootstrap_learning\n",
    "\n",
    "from sklearn.linear_model import LogisticRegression\n",
    "from sklearn.datasets import load_breast_cancer\n",
    "from sklearn.preprocessing import StandardScaler\n",
    "from sklearn.model_selection import train_test_split"
   ]
  },
  {
   "cell_type": "code",
   "execution_count": 2,
   "metadata": {},
   "outputs": [],
   "source": [
    "# I just use the first dataset for binary classification that I found\n",
    "data = load_breast_cancer()\n",
    "scaler = StandardScaler()\n",
    "\n",
    "# Take first two features for simplicity, but the number can be arbitrary\n",
    "X_0 = data.data[:, :2]\n",
    "X_0 = scaler.fit_transform(X_0)\n",
    "X_0 = np.hstack((X_0, np.ones((len(X_0), 1))))\n",
    "y = data.target"
   ]
  },
  {
   "cell_type": "code",
   "execution_count": 3,
   "metadata": {},
   "outputs": [
    {
     "data": {
      "text/plain": [
       "array([[ 1.09706398, -2.07333501,  1.        ],\n",
       "       [ 1.82982061, -0.35363241,  1.        ],\n",
       "       [ 1.57988811,  0.45618695,  1.        ],\n",
       "       ...,\n",
       "       [ 0.70228425,  2.0455738 ,  1.        ],\n",
       "       [ 1.83834103,  2.33645719,  1.        ],\n",
       "       [-1.80840125,  1.22179204,  1.        ]])"
      ]
     },
     "execution_count": 3,
     "metadata": {},
     "output_type": "execute_result"
    }
   ],
   "source": [
    "X_0"
   ]
  },
  {
   "cell_type": "code",
   "execution_count": 4,
   "metadata": {},
   "outputs": [],
   "source": [
    "X_train, X_test, y_train, y_test = train_test_split(\n",
    "                                    X_0, y, test_size=0.1, stratify=y, random_state=42)"
   ]
  },
  {
   "cell_type": "code",
   "execution_count": 5,
   "metadata": {},
   "outputs": [
    {
     "name": "stdout",
     "output_type": "stream",
     "text": [
      "Class ratio:\n",
      "train: 62.70%\n",
      "test: 63.16%\n"
     ]
    }
   ],
   "source": [
    "print('Class ratio:\\ntrain: {:2.2%}\\ntest: {:2.2%}'.format(y_train.sum()/len(y_train),\n",
    "                                                   y_test.sum()/len(y_test)))"
   ]
  },
  {
   "cell_type": "code",
   "execution_count": 6,
   "metadata": {},
   "outputs": [
    {
     "name": "stdout",
     "output_type": "stream",
     "text": [
      "Implicit_model(\n",
      "  (fc1): Linear(in_features=12, out_features=256, bias=True)\n",
      "  (fc2): Linear(in_features=256, out_features=256, bias=True)\n",
      "  (fc3): Linear(in_features=256, out_features=1, bias=True)\n",
      ")\n"
     ]
    }
   ],
   "source": [
    "class Implicit_model(nn.Module):\n",
    "    def __init__(self, input_size, output_size, hid_size=256):\n",
    "        super(Implicit_model, self).__init__()\n",
    "        self.fc1 = nn.Linear(input_size, hid_size)\n",
    "        self.fc2 = nn.Linear(hid_size, hid_size)\n",
    "        self.fc3 = nn.Linear(hid_size, output_size)\n",
    "\n",
    "    def forward(self, x):\n",
    "        x = F.relu(self.fc1(x))\n",
    "        x = F.relu(self.fc2(x))\n",
    "        x = self.fc3(x)\n",
    "        return x\n",
    "\n",
    "\n",
    "net = Implicit_model(12, 1)\n",
    "print(net)"
   ]
  },
  {
   "cell_type": "code",
   "execution_count": 7,
   "metadata": {},
   "outputs": [],
   "source": [
    "# this is P(y|X, theta)\n",
    "def logistic_model(x, A):\n",
    "    return F.sigmoid(torch.matmul(x, A.T))"
   ]
  },
  {
   "cell_type": "code",
   "execution_count": 8,
   "metadata": {},
   "outputs": [
    {
     "name": "stderr",
     "output_type": "stream",
     "text": [
      "/home/adalnhard/.local/lib/python3.6/site-packages/torch/nn/_reduction.py:44: UserWarning: size_average and reduce args will be deprecated, please use reduction='mean' instead.\n",
      "  warnings.warn(warning.format(ret))\n",
      "/home/adalnhard/.local/lib/python3.6/site-packages/torch/nn/functional.py:1639: UserWarning: nn.functional.sigmoid is deprecated. Use torch.sigmoid instead.\n",
      "  warnings.warn(\"nn.functional.sigmoid is deprecated. Use torch.sigmoid instead.\")\n"
     ]
    },
    {
     "name": "stdout",
     "output_type": "stream",
     "text": [
      "Loss:  0.26582251472593654\n",
      "Loss:  0.2500077381677759\n",
      "Loss:  0.2555500744603407\n",
      "Loss:  0.2675235210440841\n",
      "Loss:  0.2805038805698827\n",
      "Loss:  0.21319385006257813\n",
      "Loss:  0.25692396503759196\n",
      "Loss:  0.1818853313071589\n",
      "Loss:  0.2576655498577998\n",
      "Loss:  0.2851795022070137\n"
     ]
    }
   ],
   "source": [
    "from amortized_bootstrap import Amortized_bootstrap_learning\n",
    "\n",
    "implicit_model = Implicit_model(1, X_train.shape[1]).double()\n",
    "criterion = torch.nn.BCELoss(size_average=True) #loss for classification\n",
    "Amortized_bootstrap_learning(implicit_model, logistic_model, criterion, X_train, y_train, n_bootstrap_sampling= 100,\n",
    "                             n_epochs= 100, batch_size=64, learning_rate=0.02)"
   ]
  },
  {
   "cell_type": "code",
   "execution_count": 160,
   "metadata": {},
   "outputs": [],
   "source": [
    "# now we can use trained weights of implicit model to perform bagging"
   ]
  },
  {
   "cell_type": "code",
   "execution_count": 9,
   "metadata": {},
   "outputs": [],
   "source": [
    "# as an example, consider bagging with 10 logistic classifiers\n",
    "# now that we have a sampler from bootstrapped statistic, we don't need \n",
    "# to bootstrap our initial data\n",
    "\n",
    "bagging_y = []\n",
    "for i in range(10):\n",
    "    ksi = np.random.normal(size=(1, 1)).reshape(-1, 1)\n",
    "    theta = implicit_model(torch.tensor(ksi).double())\n",
    "    y_pred = logistic_model(torch.tensor(X_test), theta)\n",
    "    bagging_y.append(y_pred.detach().numpy())\n",
    "\n",
    "y_probs = np.array(bagging_y).mean(axis=0)"
   ]
  }
 ],
 "metadata": {
  "kernelspec": {
   "display_name": "Python 3",
   "language": "python",
   "name": "python3"
  },
  "language_info": {
   "codemirror_mode": {
    "name": "ipython",
    "version": 3
   },
   "file_extension": ".py",
   "mimetype": "text/x-python",
   "name": "python",
   "nbconvert_exporter": "python",
   "pygments_lexer": "ipython3",
   "version": "3.6.9"
  }
 },
 "nbformat": 4,
 "nbformat_minor": 4
}
